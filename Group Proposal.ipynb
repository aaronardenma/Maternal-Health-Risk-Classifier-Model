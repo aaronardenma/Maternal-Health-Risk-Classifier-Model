{
 "cells": [
  {
   "cell_type": "markdown",
   "id": "6a0759fe-053d-4501-8473-bfcc7e8e0249",
   "metadata": {},
   "source": []
  }
 ],
 "metadata": {
  "kernelspec": {
   "display_name": "R",
   "language": "R",
   "name": "ir"
  },
  "language_info": {
   "codemirror_mode": "r",
   "file_extension": ".r",
   "mimetype": "text/x-r-source",
   "name": "R",
   "pygments_lexer": "r",
   "version": "4.3.1"
  }
 },
 "nbformat": 4,
 "nbformat_minor": 5
}
