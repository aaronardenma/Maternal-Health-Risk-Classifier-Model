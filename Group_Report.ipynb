{
 "cells": [
  {
   "cell_type": "markdown",
   "id": "3362be04-a34c-46a8-b357-33951c12be72",
   "metadata": {
    "tags": []
   },
   "source": [
    "# Group 41 Project Report\n",
    "\n",
    "## Maternal Health Data and Health Risk Level"
   ]
  },
  {
   "cell_type": "code",
   "execution_count": null,
   "id": "75406604-76c4-4e44-b373-6300dc884dca",
   "metadata": {},
   "outputs": [],
   "source": []
  }
 ],
 "metadata": {
  "kernelspec": {
   "display_name": "R",
   "language": "R",
   "name": "ir"
  },
  "language_info": {
   "codemirror_mode": "r",
   "file_extension": ".r",
   "mimetype": "text/x-r-source",
   "name": "R",
   "pygments_lexer": "r",
   "version": "4.2.2"
  }
 },
 "nbformat": 4,
 "nbformat_minor": 5
}
