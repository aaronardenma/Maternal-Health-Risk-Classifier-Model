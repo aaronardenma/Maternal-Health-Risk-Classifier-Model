{
 "cells": [
  {
   "cell_type": "markdown",
   "id": "6a0759fe-053d-4501-8473-bfcc7e8e0249",
   "metadata": {},
   "source": [
    "Maternal Health Data And Health Risk Level\n",
    "\n",
    "Question: To what extent can we use model data from “sensing enabled technology”: blood pressure, blood glucose level, body temperature and heart rate, to classify and predict Bangladeshi women’s maternal health risk level?\n",
    "\n",
    "Fetal and maternal fatality is a pervasive problem especially in developing nations, and especially felt by disadvantaged classes. The Maternal Health Risk Dataset from UC Irvine Machine Learning Repository has tracked sensory data from pregnant women in rural villages in Bangladesh regarding health parameters like blood pressure and also their respective maternal health risk. \n",
    "\n",
    "Our data has the following variables (columns):\n",
    "\n",
    "- Age \n",
    "- Systolic Blood Pressure (SystolicBP)\n",
    "- (Diastolic Blood Pressure) DiastolicBP\n",
    "- Blood Glucose Level (BS)\n",
    "- Body Temperature (BodyTemp)\n",
    "- Resting Heart Rate (HeartRate)\n",
    "- Predicted Risk Intensity Level during pregnancy (RiskLevel)\n",
    "\n",
    "We will use tidymodels to perform K-nearest neighbours to classify maternal health risk as either high, medium, or low, as predicted by all the remaining health variables. We will be doing cross-validation by splitting the same data into training and test sets to get a more robust estimate of accuracy. Understanding the association between health data and maternal risk can help medical professionals advise women on pregnancy and also help them understand what risk factors to look out for to prepare for them in advance.  \n",
    "\n",
    "References\n",
    "\n",
    "10.24432/C5DP5D\n",
    "\n",
    "Ahmed, M., Kashem, M.A., Rahman, M., & Khatun, S. (2020). Review and Analysis of Risk Factor of Maternal Health in Remote Area Using the Internet of Things (IoT).\n"
   ]
  },
  {
   "cell_type": "code",
   "execution_count": 2,
   "id": "373a7103-ef19-420e-9774-c49a82b860c1",
   "metadata": {},
   "outputs": [
    {
     "name": "stderr",
     "output_type": "stream",
     "text": [
      "── \u001b[1mAttaching core tidyverse packages\u001b[22m ──────────────────────── tidyverse 2.0.0 ──\n",
      "\u001b[32m✔\u001b[39m \u001b[34mdplyr    \u001b[39m 1.1.3     \u001b[32m✔\u001b[39m \u001b[34mreadr    \u001b[39m 2.1.4\n",
      "\u001b[32m✔\u001b[39m \u001b[34mforcats  \u001b[39m 1.0.0     \u001b[32m✔\u001b[39m \u001b[34mstringr  \u001b[39m 1.5.0\n",
      "\u001b[32m✔\u001b[39m \u001b[34mggplot2  \u001b[39m 3.4.3     \u001b[32m✔\u001b[39m \u001b[34mtibble   \u001b[39m 3.2.1\n",
      "\u001b[32m✔\u001b[39m \u001b[34mlubridate\u001b[39m 1.9.2     \u001b[32m✔\u001b[39m \u001b[34mtidyr    \u001b[39m 1.3.0\n",
      "\u001b[32m✔\u001b[39m \u001b[34mpurrr    \u001b[39m 1.0.2     \n",
      "── \u001b[1mConflicts\u001b[22m ────────────────────────────────────────── tidyverse_conflicts() ──\n",
      "\u001b[31m✖\u001b[39m \u001b[34mdplyr\u001b[39m::\u001b[32mfilter()\u001b[39m masks \u001b[34mstats\u001b[39m::filter()\n",
      "\u001b[31m✖\u001b[39m \u001b[34mdplyr\u001b[39m::\u001b[32mlag()\u001b[39m    masks \u001b[34mstats\u001b[39m::lag()\n",
      "\u001b[36mℹ\u001b[39m Use the conflicted package (\u001b[3m\u001b[34m<http://conflicted.r-lib.org/>\u001b[39m\u001b[23m) to force all conflicts to become errors\n",
      "── \u001b[1mAttaching packages\u001b[22m ────────────────────────────────────── tidymodels 1.1.1 ──\n",
      "\n",
      "\u001b[32m✔\u001b[39m \u001b[34mbroom       \u001b[39m 1.0.5     \u001b[32m✔\u001b[39m \u001b[34mrsample     \u001b[39m 1.2.0\n",
      "\u001b[32m✔\u001b[39m \u001b[34mdials       \u001b[39m 1.2.0     \u001b[32m✔\u001b[39m \u001b[34mtune        \u001b[39m 1.1.2\n",
      "\u001b[32m✔\u001b[39m \u001b[34minfer       \u001b[39m 1.0.4     \u001b[32m✔\u001b[39m \u001b[34mworkflows   \u001b[39m 1.1.3\n",
      "\u001b[32m✔\u001b[39m \u001b[34mmodeldata   \u001b[39m 1.2.0     \u001b[32m✔\u001b[39m \u001b[34mworkflowsets\u001b[39m 1.0.1\n",
      "\u001b[32m✔\u001b[39m \u001b[34mparsnip     \u001b[39m 1.1.1     \u001b[32m✔\u001b[39m \u001b[34myardstick   \u001b[39m 1.2.0\n",
      "\u001b[32m✔\u001b[39m \u001b[34mrecipes     \u001b[39m 1.0.8     \n",
      "\n",
      "── \u001b[1mConflicts\u001b[22m ───────────────────────────────────────── tidymodels_conflicts() ──\n",
      "\u001b[31m✖\u001b[39m \u001b[34mscales\u001b[39m::\u001b[32mdiscard()\u001b[39m masks \u001b[34mpurrr\u001b[39m::discard()\n",
      "\u001b[31m✖\u001b[39m \u001b[34mdplyr\u001b[39m::\u001b[32mfilter()\u001b[39m   masks \u001b[34mstats\u001b[39m::filter()\n",
      "\u001b[31m✖\u001b[39m \u001b[34mrecipes\u001b[39m::\u001b[32mfixed()\u001b[39m  masks \u001b[34mstringr\u001b[39m::fixed()\n",
      "\u001b[31m✖\u001b[39m \u001b[34mdplyr\u001b[39m::\u001b[32mlag()\u001b[39m      masks \u001b[34mstats\u001b[39m::lag()\n",
      "\u001b[31m✖\u001b[39m \u001b[34myardstick\u001b[39m::\u001b[32mspec()\u001b[39m masks \u001b[34mreadr\u001b[39m::spec()\n",
      "\u001b[31m✖\u001b[39m \u001b[34mrecipes\u001b[39m::\u001b[32mstep()\u001b[39m   masks \u001b[34mstats\u001b[39m::step()\n",
      "\u001b[34m•\u001b[39m Use suppressPackageStartupMessages() to eliminate package startup messages\n",
      "\n",
      "Warning message in file(filename, \"r\", encoding = encoding):\n",
      "“cannot open file 'tests.R': No such file or directory”\n"
     ]
    },
    {
     "ename": "ERROR",
     "evalue": "Error in file(filename, \"r\", encoding = encoding): cannot open the connection\n",
     "output_type": "error",
     "traceback": [
      "Error in file(filename, \"r\", encoding = encoding): cannot open the connection\nTraceback:\n",
      "1. source(\"tests.R\")",
      "2. file(filename, \"r\", encoding = encoding)"
     ]
    }
   ],
   "source": [
    "library(repr)\n",
    "library(tidyverse)\n",
    "library(tidymodels)\n",
    "options(repr.matrix.max.rows = 10)\n",
    "source('tests.R')\n",
    "source(\"cleanup.R\")"
   ]
  },
  {
   "cell_type": "code",
   "execution_count": 3,
   "id": "f0b8b013-e655-48ba-819f-9da33952408c",
   "metadata": {},
   "outputs": [
    {
     "name": "stderr",
     "output_type": "stream",
     "text": [
      "\u001b[1mRows: \u001b[22m\u001b[34m1014\u001b[39m \u001b[1mColumns: \u001b[22m\u001b[34m7\u001b[39m\n",
      "\u001b[36m──\u001b[39m \u001b[1mColumn specification\u001b[22m \u001b[36m────────────────────────────────────────────────────────\u001b[39m\n",
      "\u001b[1mDelimiter:\u001b[22m \",\"\n",
      "\u001b[31mchr\u001b[39m (1): RiskLevel\n",
      "\u001b[32mdbl\u001b[39m (6): Age, SystolicBP, DiastolicBP, BS, BodyTemp, HeartRate\n",
      "\n",
      "\u001b[36mℹ\u001b[39m Use `spec()` to retrieve the full column specification for this data.\n",
      "\u001b[36mℹ\u001b[39m Specify the column types or set `show_col_types = FALSE` to quiet this message.\n"
     ]
    },
    {
     "data": {
      "text/html": [
       "<table class=\"dataframe\">\n",
       "<caption>A spec_tbl_df: 1014 × 7</caption>\n",
       "<thead>\n",
       "\t<tr><th scope=col>Age</th><th scope=col>SystolicBP</th><th scope=col>DiastolicBP</th><th scope=col>BS</th><th scope=col>BodyTemp</th><th scope=col>HeartRate</th><th scope=col>RiskLevel</th></tr>\n",
       "\t<tr><th scope=col>&lt;dbl&gt;</th><th scope=col>&lt;dbl&gt;</th><th scope=col>&lt;dbl&gt;</th><th scope=col>&lt;dbl&gt;</th><th scope=col>&lt;dbl&gt;</th><th scope=col>&lt;dbl&gt;</th><th scope=col>&lt;chr&gt;</th></tr>\n",
       "</thead>\n",
       "<tbody>\n",
       "\t<tr><td>25</td><td>130</td><td>80</td><td>15.0</td><td> 98</td><td>86</td><td>high risk</td></tr>\n",
       "\t<tr><td>35</td><td>140</td><td>90</td><td>13.0</td><td> 98</td><td>70</td><td>high risk</td></tr>\n",
       "\t<tr><td>29</td><td> 90</td><td>70</td><td> 8.0</td><td>100</td><td>80</td><td>high risk</td></tr>\n",
       "\t<tr><td>30</td><td>140</td><td>85</td><td> 7.0</td><td> 98</td><td>70</td><td>high risk</td></tr>\n",
       "\t<tr><td>35</td><td>120</td><td>60</td><td> 6.1</td><td> 98</td><td>76</td><td>low risk </td></tr>\n",
       "\t<tr><td>⋮</td><td>⋮</td><td>⋮</td><td>⋮</td><td>⋮</td><td>⋮</td><td>⋮</td></tr>\n",
       "\t<tr><td>22</td><td>120</td><td>60</td><td>15</td><td> 98</td><td>80</td><td>high risk</td></tr>\n",
       "\t<tr><td>55</td><td>120</td><td>90</td><td>18</td><td> 98</td><td>60</td><td>high risk</td></tr>\n",
       "\t<tr><td>35</td><td> 85</td><td>60</td><td>19</td><td> 98</td><td>86</td><td>high risk</td></tr>\n",
       "\t<tr><td>43</td><td>120</td><td>90</td><td>18</td><td> 98</td><td>70</td><td>high risk</td></tr>\n",
       "\t<tr><td>32</td><td>120</td><td>65</td><td> 6</td><td>101</td><td>76</td><td>mid risk </td></tr>\n",
       "</tbody>\n",
       "</table>\n"
      ],
      "text/latex": [
       "A spec\\_tbl\\_df: 1014 × 7\n",
       "\\begin{tabular}{lllllll}\n",
       " Age & SystolicBP & DiastolicBP & BS & BodyTemp & HeartRate & RiskLevel\\\\\n",
       " <dbl> & <dbl> & <dbl> & <dbl> & <dbl> & <dbl> & <chr>\\\\\n",
       "\\hline\n",
       "\t 25 & 130 & 80 & 15.0 &  98 & 86 & high risk\\\\\n",
       "\t 35 & 140 & 90 & 13.0 &  98 & 70 & high risk\\\\\n",
       "\t 29 &  90 & 70 &  8.0 & 100 & 80 & high risk\\\\\n",
       "\t 30 & 140 & 85 &  7.0 &  98 & 70 & high risk\\\\\n",
       "\t 35 & 120 & 60 &  6.1 &  98 & 76 & low risk \\\\\n",
       "\t ⋮ & ⋮ & ⋮ & ⋮ & ⋮ & ⋮ & ⋮\\\\\n",
       "\t 22 & 120 & 60 & 15 &  98 & 80 & high risk\\\\\n",
       "\t 55 & 120 & 90 & 18 &  98 & 60 & high risk\\\\\n",
       "\t 35 &  85 & 60 & 19 &  98 & 86 & high risk\\\\\n",
       "\t 43 & 120 & 90 & 18 &  98 & 70 & high risk\\\\\n",
       "\t 32 & 120 & 65 &  6 & 101 & 76 & mid risk \\\\\n",
       "\\end{tabular}\n"
      ],
      "text/markdown": [
       "\n",
       "A spec_tbl_df: 1014 × 7\n",
       "\n",
       "| Age &lt;dbl&gt; | SystolicBP &lt;dbl&gt; | DiastolicBP &lt;dbl&gt; | BS &lt;dbl&gt; | BodyTemp &lt;dbl&gt; | HeartRate &lt;dbl&gt; | RiskLevel &lt;chr&gt; |\n",
       "|---|---|---|---|---|---|---|\n",
       "| 25 | 130 | 80 | 15.0 |  98 | 86 | high risk |\n",
       "| 35 | 140 | 90 | 13.0 |  98 | 70 | high risk |\n",
       "| 29 |  90 | 70 |  8.0 | 100 | 80 | high risk |\n",
       "| 30 | 140 | 85 |  7.0 |  98 | 70 | high risk |\n",
       "| 35 | 120 | 60 |  6.1 |  98 | 76 | low risk  |\n",
       "| ⋮ | ⋮ | ⋮ | ⋮ | ⋮ | ⋮ | ⋮ |\n",
       "| 22 | 120 | 60 | 15 |  98 | 80 | high risk |\n",
       "| 55 | 120 | 90 | 18 |  98 | 60 | high risk |\n",
       "| 35 |  85 | 60 | 19 |  98 | 86 | high risk |\n",
       "| 43 | 120 | 90 | 18 |  98 | 70 | high risk |\n",
       "| 32 | 120 | 65 |  6 | 101 | 76 | mid risk  |\n",
       "\n"
      ],
      "text/plain": [
       "     Age SystolicBP DiastolicBP BS   BodyTemp HeartRate RiskLevel\n",
       "1    25  130        80          15.0  98      86        high risk\n",
       "2    35  140        90          13.0  98      70        high risk\n",
       "3    29   90        70           8.0 100      80        high risk\n",
       "4    30  140        85           7.0  98      70        high risk\n",
       "5    35  120        60           6.1  98      76        low risk \n",
       "⋮    ⋮   ⋮          ⋮           ⋮    ⋮        ⋮         ⋮        \n",
       "1010 22  120        60          15    98      80        high risk\n",
       "1011 55  120        90          18    98      60        high risk\n",
       "1012 35   85        60          19    98      86        high risk\n",
       "1013 43  120        90          18    98      70        high risk\n",
       "1014 32  120        65           6   101      76        mid risk "
      ]
     },
     "metadata": {},
     "output_type": "display_data"
    }
   ],
   "source": [
    "mat_health_risk <- read_csv(\"Maternal_Health_Risk_Data_Set.csv\")\n",
    "\n",
    "mat_health_risk"
   ]
  },
  {
   "cell_type": "code",
   "execution_count": 4,
   "id": "068b38f6-5826-4205-a891-131a76d5eac1",
   "metadata": {},
   "outputs": [
    {
     "data": {
      "text/html": [
       "<table class=\"dataframe\">\n",
       "<caption>A tibble: 3 × 2</caption>\n",
       "<thead>\n",
       "\t<tr><th scope=col>classes</th><th scope=col>n_observations</th></tr>\n",
       "\t<tr><th scope=col>&lt;named list&gt;</th><th scope=col>&lt;int&gt;</th></tr>\n",
       "</thead>\n",
       "<tbody>\n",
       "\t<tr><td>high risk</td><td>272</td></tr>\n",
       "\t<tr><td>low risk</td><td>336</td></tr>\n",
       "\t<tr><td>mid risk</td><td>406</td></tr>\n",
       "</tbody>\n",
       "</table>\n"
      ],
      "text/latex": [
       "A tibble: 3 × 2\n",
       "\\begin{tabular}{ll}\n",
       " classes & n\\_observations\\\\\n",
       " <named list> & <int>\\\\\n",
       "\\hline\n",
       "\t high risk & 272\\\\\n",
       "\t low risk & 336\\\\\n",
       "\t mid risk & 406\\\\\n",
       "\\end{tabular}\n"
      ],
      "text/markdown": [
       "\n",
       "A tibble: 3 × 2\n",
       "\n",
       "| classes &lt;named list&gt; | n_observations &lt;int&gt; |\n",
       "|---|---|\n",
       "| high risk | 272 |\n",
       "| low risk | 336 |\n",
       "| mid risk | 406 |\n",
       "\n"
      ],
      "text/plain": [
       "  classes   n_observations\n",
       "1 high risk 272           \n",
       "2 low risk  336           \n",
       "3 mid risk  406           "
      ]
     },
     "metadata": {},
     "output_type": "display_data"
    }
   ],
   "source": [
    "unique_cases <- mat_health_risk |>\n",
    "select(RiskLevel) |>\n",
    "unique()\n",
    "\n",
    "n_observations_1 <- mat_health_risk |>\n",
    "filter(RiskLevel == \"high risk\") |>\n",
    "nrow()\n",
    "\n",
    "n_observations_2 <- mat_health_risk |>\n",
    "filter(RiskLevel == \"mid risk\") |>\n",
    "nrow()\n",
    "\n",
    "n_observations_3 <- mat_health_risk |>\n",
    "filter(RiskLevel == \"low risk\") |>\n",
    "nrow()\n",
    "\n",
    "classes <- c(slice(unique_cases, 1), slice(unique_cases, 2), slice(unique_cases, 3))\n",
    "\n",
    "observations <- c(n_observations_1, n_observations_2, n_observations_3)\n",
    "case_ob <- tibble(classes = classes, n_observations = observations)\n",
    "case_ob"
   ]
  },
  {
   "cell_type": "code",
   "execution_count": 5,
   "id": "593c32fa-cbc5-405c-b1be-9b39473da4f6",
   "metadata": {},
   "outputs": [
    {
     "data": {
      "text/html": [
       "<table class=\"dataframe\">\n",
       "<caption>A tibble: 1 × 6</caption>\n",
       "<thead>\n",
       "\t<tr><th scope=col>Age</th><th scope=col>SystolicBP</th><th scope=col>DiastolicBP</th><th scope=col>BS</th><th scope=col>BodyTemp</th><th scope=col>HeartRate</th></tr>\n",
       "\t<tr><th scope=col>&lt;dbl&gt;</th><th scope=col>&lt;dbl&gt;</th><th scope=col>&lt;dbl&gt;</th><th scope=col>&lt;dbl&gt;</th><th scope=col>&lt;dbl&gt;</th><th scope=col>&lt;dbl&gt;</th></tr>\n",
       "</thead>\n",
       "<tbody>\n",
       "\t<tr><td>29.87179</td><td>113.1982</td><td>76.46055</td><td>8.725986</td><td>98.66509</td><td>74.30178</td></tr>\n",
       "</tbody>\n",
       "</table>\n"
      ],
      "text/latex": [
       "A tibble: 1 × 6\n",
       "\\begin{tabular}{llllll}\n",
       " Age & SystolicBP & DiastolicBP & BS & BodyTemp & HeartRate\\\\\n",
       " <dbl> & <dbl> & <dbl> & <dbl> & <dbl> & <dbl>\\\\\n",
       "\\hline\n",
       "\t 29.87179 & 113.1982 & 76.46055 & 8.725986 & 98.66509 & 74.30178\\\\\n",
       "\\end{tabular}\n"
      ],
      "text/markdown": [
       "\n",
       "A tibble: 1 × 6\n",
       "\n",
       "| Age &lt;dbl&gt; | SystolicBP &lt;dbl&gt; | DiastolicBP &lt;dbl&gt; | BS &lt;dbl&gt; | BodyTemp &lt;dbl&gt; | HeartRate &lt;dbl&gt; |\n",
       "|---|---|---|---|---|---|\n",
       "| 29.87179 | 113.1982 | 76.46055 | 8.725986 | 98.66509 | 74.30178 |\n",
       "\n"
      ],
      "text/plain": [
       "  Age      SystolicBP DiastolicBP BS       BodyTemp HeartRate\n",
       "1 29.87179 113.1982   76.46055    8.725986 98.66509 74.30178 "
      ]
     },
     "metadata": {},
     "output_type": "display_data"
    }
   ],
   "source": [
    "predictor_means <- mat_health_risk |>\n",
    "select(-RiskLevel) |>\n",
    "map_df(mean, na.rm=TRUE)\n",
    "\n",
    "predictor_means"
   ]
  },
  {
   "cell_type": "code",
   "execution_count": 8,
   "id": "170e668a-5edb-4506-815a-2a18a4900055",
   "metadata": {},
   "outputs": [
    {
     "data": {
      "text/html": [
       "<table class=\"dataframe\">\n",
       "<caption>A matrix: 1 × 7 of type lgl</caption>\n",
       "<thead>\n",
       "\t<tr><th scope=col>Age</th><th scope=col>SystolicBP</th><th scope=col>DiastolicBP</th><th scope=col>BS</th><th scope=col>BodyTemp</th><th scope=col>HeartRate</th><th scope=col>RiskLevel</th></tr>\n",
       "</thead>\n",
       "<tbody>\n",
       "\t<tr><td>FALSE</td><td>FALSE</td><td>FALSE</td><td>FALSE</td><td>FALSE</td><td>FALSE</td><td>FALSE</td></tr>\n",
       "</tbody>\n",
       "</table>\n"
      ],
      "text/latex": [
       "A matrix: 1 × 7 of type lgl\n",
       "\\begin{tabular}{lllllll}\n",
       " Age & SystolicBP & DiastolicBP & BS & BodyTemp & HeartRate & RiskLevel\\\\\n",
       "\\hline\n",
       "\t FALSE & FALSE & FALSE & FALSE & FALSE & FALSE & FALSE\\\\\n",
       "\\end{tabular}\n"
      ],
      "text/markdown": [
       "\n",
       "A matrix: 1 × 7 of type lgl\n",
       "\n",
       "| Age | SystolicBP | DiastolicBP | BS | BodyTemp | HeartRate | RiskLevel |\n",
       "|---|---|---|---|---|---|---|\n",
       "| FALSE | FALSE | FALSE | FALSE | FALSE | FALSE | FALSE |\n",
       "\n"
      ],
      "text/plain": [
       "     Age   SystolicBP DiastolicBP BS    BodyTemp HeartRate RiskLevel\n",
       "[1,] FALSE FALSE      FALSE       FALSE FALSE    FALSE     FALSE    "
      ]
     },
     "metadata": {},
     "output_type": "display_data"
    }
   ],
   "source": [
    "na <- mat_health_risk |>\n",
    "is.na() |>\n",
    "unique()\n",
    "\n",
    "na #no missing values in dataset"
   ]
  },
  {
   "cell_type": "code",
   "execution_count": null,
   "id": "d1a6e577-1a5d-475f-b2bd-b7cde4567deb",
   "metadata": {},
   "outputs": [],
   "source": []
  }
 ],
 "metadata": {
  "kernelspec": {
   "display_name": "R",
   "language": "R",
   "name": "ir"
  },
  "language_info": {
   "codemirror_mode": "r",
   "file_extension": ".r",
   "mimetype": "text/x-r-source",
   "name": "R",
   "pygments_lexer": "r",
   "version": "4.3.1"
  }
 },
 "nbformat": 4,
 "nbformat_minor": 5
}
