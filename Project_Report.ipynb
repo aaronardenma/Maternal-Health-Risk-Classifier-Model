{
 "cells": [
  {
   "cell_type": "code",
   "execution_count": null,
   "id": "d2246158-9e5f-48e7-b3da-700f0d9d8c1d",
   "metadata": {},
   "outputs": [],
   "source": []
  }
 ],
 "metadata": {
  "kernelspec": {
   "display_name": "R",
   "language": "R",
   "name": "ir"
  },
  "language_info": {
   "codemirror_mode": "r",
   "file_extension": ".r",
   "mimetype": "text/x-r-source",
   "name": "R",
   "pygments_lexer": "r",
   "version": "4.2.2"
  }
 },
 "nbformat": 4,
 "nbformat_minor": 5
}
